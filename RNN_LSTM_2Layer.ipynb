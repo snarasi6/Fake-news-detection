{
 "cells": [
  {
   "cell_type": "code",
   "execution_count": 1,
   "metadata": {},
   "outputs": [
    {
     "name": "stderr",
     "output_type": "stream",
     "text": [
      "Using TensorFlow backend.\n"
     ]
    },
    {
     "name": "stdout",
     "output_type": "stream",
     "text": [
      "Done\n"
     ]
    }
   ],
   "source": [
    "import numpy as np # linear algebra\n",
    "import pandas as pd # data processing\n",
    "import os\n",
    "import re\n",
    "from nltk.corpus import stopwords\n",
    "from sklearn.feature_selection import SelectKBest\n",
    "from sklearn.naive_bayes import MultinomialNB\n",
    "from sklearn.feature_extraction.text import CountVectorizer\n",
    "from sklearn.pipeline import make_pipeline\n",
    "from sklearn.model_selection import train_test_split\n",
    "from sklearn.metrics import accuracy_score, precision_score, recall_score, roc_auc_score\n",
    "from sklearn.metrics import confusion_matrix\n",
    "import matplotlib.pyplot as plt\n",
    "import seaborn as sns\n",
    "from keras.models import Sequential\n",
    "from keras.preprocessing.sequence import pad_sequences\n",
    "from keras.layers import LSTM,Dense, Dropout, Embedding, Bidirectional\n",
    "from keras.callbacks import EarlyStopping\n",
    "from sklearn.model_selection import KFold\n",
    "# from nltk.corpus import stopwords\n",
    "from keras.preprocessing.text import Tokenizer\n",
    "\n",
    "news_data = pd.read_csv(\"/Users/akhilesh/Desktop/news_dataset.csv\")\n",
    "news_data.content=news_data.content.astype(str)\n",
    "X = news_data.content\n",
    "# Name: is_sarcastic, Length: 26709, dtype: int64\n",
    "Y = news_data.label\n",
    "Y = Y.values.reshape(-1, 1)\n",
    "print('Done')"
   ]
  },
  {
   "cell_type": "code",
   "execution_count": 2,
   "metadata": {},
   "outputs": [
    {
     "name": "stdout",
     "output_type": "stream",
     "text": [
      "Model: \"sequential_1\"\n",
      "_________________________________________________________________\n",
      "Layer (type)                 Output Shape              Param #   \n",
      "=================================================================\n",
      "embedding_1 (Embedding)      (None, 150, 64)           2560000   \n",
      "_________________________________________________________________\n",
      "dropout_1 (Dropout)          (None, 150, 64)           0         \n",
      "_________________________________________________________________\n",
      "bidirectional_1 (Bidirection (None, 150, 128)          66048     \n",
      "_________________________________________________________________\n",
      "bidirectional_2 (Bidirection (None, 128)               98816     \n",
      "_________________________________________________________________\n",
      "dense_1 (Dense)              (None, 256)               33024     \n",
      "_________________________________________________________________\n",
      "dropout_2 (Dropout)          (None, 256)               0         \n",
      "_________________________________________________________________\n",
      "dense_2 (Dense)              (None, 1)                 257       \n",
      "=================================================================\n",
      "Total params: 2,758,145\n",
      "Trainable params: 2,758,145\n",
      "Non-trainable params: 0\n",
      "_________________________________________________________________\n"
     ]
    },
    {
     "name": "stderr",
     "output_type": "stream",
     "text": [
      "/Users/akhilesh/anaconda3/envs/Black_Hole/lib/python3.7/site-packages/tensorflow_core/python/framework/indexed_slices.py:424: UserWarning: Converting sparse IndexedSlices to a dense Tensor of unknown shape. This may consume a large amount of memory.\n",
      "  \"Converting sparse IndexedSlices to a dense Tensor of unknown shape. \"\n"
     ]
    },
    {
     "name": "stdout",
     "output_type": "stream",
     "text": [
      "Train on 23255 samples, validate on 2584 samples\n",
      "Epoch 1/150\n",
      "23255/23255 [==============================] - 97s 4ms/step - loss: 0.2935 - accuracy: 0.8714 - val_loss: 0.4149 - val_accuracy: 0.8390\n",
      "Epoch 2/150\n",
      "23255/23255 [==============================] - 98s 4ms/step - loss: 0.0864 - accuracy: 0.9708 - val_loss: 0.7403 - val_accuracy: 0.8108\n",
      "2872/2872 [==============================] - 3s 998us/step\n",
      "Model: \"sequential_2\"\n",
      "_________________________________________________________________\n",
      "Layer (type)                 Output Shape              Param #   \n",
      "=================================================================\n",
      "embedding_2 (Embedding)      (None, 150, 64)           2560000   \n",
      "_________________________________________________________________\n",
      "dropout_3 (Dropout)          (None, 150, 64)           0         \n",
      "_________________________________________________________________\n",
      "bidirectional_3 (Bidirection (None, 150, 128)          66048     \n",
      "_________________________________________________________________\n",
      "bidirectional_4 (Bidirection (None, 128)               98816     \n",
      "_________________________________________________________________\n",
      "dense_3 (Dense)              (None, 256)               33024     \n",
      "_________________________________________________________________\n",
      "dropout_4 (Dropout)          (None, 256)               0         \n",
      "_________________________________________________________________\n",
      "dense_4 (Dense)              (None, 1)                 257       \n",
      "=================================================================\n",
      "Total params: 2,758,145\n",
      "Trainable params: 2,758,145\n",
      "Non-trainable params: 0\n",
      "_________________________________________________________________\n"
     ]
    },
    {
     "name": "stderr",
     "output_type": "stream",
     "text": [
      "/Users/akhilesh/anaconda3/envs/Black_Hole/lib/python3.7/site-packages/tensorflow_core/python/framework/indexed_slices.py:424: UserWarning: Converting sparse IndexedSlices to a dense Tensor of unknown shape. This may consume a large amount of memory.\n",
      "  \"Converting sparse IndexedSlices to a dense Tensor of unknown shape. \"\n"
     ]
    },
    {
     "name": "stdout",
     "output_type": "stream",
     "text": [
      "Train on 23256 samples, validate on 2584 samples\n",
      "Epoch 1/150\n",
      "23256/23256 [==============================] - 108s 5ms/step - loss: 0.2911 - accuracy: 0.8754 - val_loss: 0.3528 - val_accuracy: 0.8835\n",
      "Epoch 2/150\n",
      "23256/23256 [==============================] - 103s 4ms/step - loss: 0.0866 - accuracy: 0.9703 - val_loss: 0.4153 - val_accuracy: 0.8634\n",
      "2871/2871 [==============================] - 3s 1ms/step\n",
      "Model: \"sequential_3\"\n",
      "_________________________________________________________________\n",
      "Layer (type)                 Output Shape              Param #   \n",
      "=================================================================\n",
      "embedding_3 (Embedding)      (None, 150, 64)           2560000   \n",
      "_________________________________________________________________\n",
      "dropout_5 (Dropout)          (None, 150, 64)           0         \n",
      "_________________________________________________________________\n",
      "bidirectional_5 (Bidirection (None, 150, 128)          66048     \n",
      "_________________________________________________________________\n",
      "bidirectional_6 (Bidirection (None, 128)               98816     \n",
      "_________________________________________________________________\n",
      "dense_5 (Dense)              (None, 256)               33024     \n",
      "_________________________________________________________________\n",
      "dropout_6 (Dropout)          (None, 256)               0         \n",
      "_________________________________________________________________\n",
      "dense_6 (Dense)              (None, 1)                 257       \n",
      "=================================================================\n",
      "Total params: 2,758,145\n",
      "Trainable params: 2,758,145\n",
      "Non-trainable params: 0\n",
      "_________________________________________________________________\n"
     ]
    },
    {
     "name": "stderr",
     "output_type": "stream",
     "text": [
      "/Users/akhilesh/anaconda3/envs/Black_Hole/lib/python3.7/site-packages/tensorflow_core/python/framework/indexed_slices.py:424: UserWarning: Converting sparse IndexedSlices to a dense Tensor of unknown shape. This may consume a large amount of memory.\n",
      "  \"Converting sparse IndexedSlices to a dense Tensor of unknown shape. \"\n"
     ]
    },
    {
     "name": "stdout",
     "output_type": "stream",
     "text": [
      "Train on 23256 samples, validate on 2584 samples\n",
      "Epoch 1/150\n",
      "23256/23256 [==============================] - 105s 5ms/step - loss: 0.2969 - accuracy: 0.8678 - val_loss: 0.4253 - val_accuracy: 0.8398\n",
      "Epoch 2/150\n",
      "23256/23256 [==============================] - 108s 5ms/step - loss: 0.0887 - accuracy: 0.9691 - val_loss: 0.4204 - val_accuracy: 0.8506\n",
      "Epoch 3/150\n",
      "23256/23256 [==============================] - 111s 5ms/step - loss: 0.0308 - accuracy: 0.9907 - val_loss: 0.8634 - val_accuracy: 0.7914\n",
      "2871/2871 [==============================] - 4s 1ms/step\n",
      "Model: \"sequential_4\"\n",
      "_________________________________________________________________\n",
      "Layer (type)                 Output Shape              Param #   \n",
      "=================================================================\n",
      "embedding_4 (Embedding)      (None, 150, 64)           2560000   \n",
      "_________________________________________________________________\n",
      "dropout_7 (Dropout)          (None, 150, 64)           0         \n",
      "_________________________________________________________________\n",
      "bidirectional_7 (Bidirection (None, 150, 128)          66048     \n",
      "_________________________________________________________________\n",
      "bidirectional_8 (Bidirection (None, 128)               98816     \n",
      "_________________________________________________________________\n",
      "dense_7 (Dense)              (None, 256)               33024     \n",
      "_________________________________________________________________\n",
      "dropout_8 (Dropout)          (None, 256)               0         \n",
      "_________________________________________________________________\n",
      "dense_8 (Dense)              (None, 1)                 257       \n",
      "=================================================================\n",
      "Total params: 2,758,145\n",
      "Trainable params: 2,758,145\n",
      "Non-trainable params: 0\n",
      "_________________________________________________________________\n"
     ]
    },
    {
     "name": "stderr",
     "output_type": "stream",
     "text": [
      "/Users/akhilesh/anaconda3/envs/Black_Hole/lib/python3.7/site-packages/tensorflow_core/python/framework/indexed_slices.py:424: UserWarning: Converting sparse IndexedSlices to a dense Tensor of unknown shape. This may consume a large amount of memory.\n",
      "  \"Converting sparse IndexedSlices to a dense Tensor of unknown shape. \"\n"
     ]
    },
    {
     "name": "stdout",
     "output_type": "stream",
     "text": [
      "Train on 23256 samples, validate on 2584 samples\n",
      "Epoch 1/150\n",
      "23256/23256 [==============================] - 107s 5ms/step - loss: 0.2942 - accuracy: 0.8709 - val_loss: 0.4384 - val_accuracy: 0.8533\n",
      "Epoch 2/150\n",
      "23256/23256 [==============================] - 105s 5ms/step - loss: 0.0916 - accuracy: 0.9680 - val_loss: 0.2945 - val_accuracy: 0.8893\n",
      "Epoch 3/150\n",
      "23256/23256 [==============================] - 108s 5ms/step - loss: 0.0247 - accuracy: 0.9922 - val_loss: 0.8458 - val_accuracy: 0.8011\n",
      "2871/2871 [==============================] - 4s 1ms/step\n",
      "Model: \"sequential_5\"\n",
      "_________________________________________________________________\n",
      "Layer (type)                 Output Shape              Param #   \n",
      "=================================================================\n",
      "embedding_5 (Embedding)      (None, 150, 64)           2560000   \n",
      "_________________________________________________________________\n",
      "dropout_9 (Dropout)          (None, 150, 64)           0         \n",
      "_________________________________________________________________\n",
      "bidirectional_9 (Bidirection (None, 150, 128)          66048     \n",
      "_________________________________________________________________\n",
      "bidirectional_10 (Bidirectio (None, 128)               98816     \n",
      "_________________________________________________________________\n",
      "dense_9 (Dense)              (None, 256)               33024     \n",
      "_________________________________________________________________\n",
      "dropout_10 (Dropout)         (None, 256)               0         \n",
      "_________________________________________________________________\n",
      "dense_10 (Dense)             (None, 1)                 257       \n",
      "=================================================================\n",
      "Total params: 2,758,145\n",
      "Trainable params: 2,758,145\n",
      "Non-trainable params: 0\n",
      "_________________________________________________________________\n"
     ]
    },
    {
     "name": "stderr",
     "output_type": "stream",
     "text": [
      "/Users/akhilesh/anaconda3/envs/Black_Hole/lib/python3.7/site-packages/tensorflow_core/python/framework/indexed_slices.py:424: UserWarning: Converting sparse IndexedSlices to a dense Tensor of unknown shape. This may consume a large amount of memory.\n",
      "  \"Converting sparse IndexedSlices to a dense Tensor of unknown shape. \"\n"
     ]
    },
    {
     "name": "stdout",
     "output_type": "stream",
     "text": [
      "Train on 23256 samples, validate on 2584 samples\n",
      "Epoch 1/150\n",
      "23256/23256 [==============================] - 117s 5ms/step - loss: 0.3048 - accuracy: 0.8635 - val_loss: 0.4968 - val_accuracy: 0.7763\n",
      "Epoch 2/150\n",
      "23256/23256 [==============================] - 112s 5ms/step - loss: 0.0841 - accuracy: 0.9707 - val_loss: 0.4165 - val_accuracy: 0.8719\n",
      "Epoch 3/150\n",
      "23256/23256 [==============================] - 113s 5ms/step - loss: 0.0197 - accuracy: 0.9937 - val_loss: 0.7718 - val_accuracy: 0.8297\n",
      "2871/2871 [==============================] - 3s 1ms/step\n",
      "Model: \"sequential_6\"\n",
      "_________________________________________________________________\n",
      "Layer (type)                 Output Shape              Param #   \n",
      "=================================================================\n",
      "embedding_6 (Embedding)      (None, 150, 64)           2560000   \n",
      "_________________________________________________________________\n",
      "dropout_11 (Dropout)         (None, 150, 64)           0         \n",
      "_________________________________________________________________\n",
      "bidirectional_11 (Bidirectio (None, 150, 128)          66048     \n",
      "_________________________________________________________________\n",
      "bidirectional_12 (Bidirectio (None, 128)               98816     \n",
      "_________________________________________________________________\n",
      "dense_11 (Dense)             (None, 256)               33024     \n",
      "_________________________________________________________________\n",
      "dropout_12 (Dropout)         (None, 256)               0         \n",
      "_________________________________________________________________\n",
      "dense_12 (Dense)             (None, 1)                 257       \n",
      "=================================================================\n",
      "Total params: 2,758,145\n",
      "Trainable params: 2,758,145\n",
      "Non-trainable params: 0\n",
      "_________________________________________________________________\n"
     ]
    },
    {
     "name": "stderr",
     "output_type": "stream",
     "text": [
      "/Users/akhilesh/anaconda3/envs/Black_Hole/lib/python3.7/site-packages/tensorflow_core/python/framework/indexed_slices.py:424: UserWarning: Converting sparse IndexedSlices to a dense Tensor of unknown shape. This may consume a large amount of memory.\n",
      "  \"Converting sparse IndexedSlices to a dense Tensor of unknown shape. \"\n"
     ]
    },
    {
     "name": "stdout",
     "output_type": "stream",
     "text": [
      "Train on 23256 samples, validate on 2584 samples\n",
      "Epoch 1/150\n",
      "23256/23256 [==============================] - 116s 5ms/step - loss: 0.3003 - accuracy: 0.8669 - val_loss: 0.5276 - val_accuracy: 0.8084\n",
      "Epoch 2/150\n",
      "23256/23256 [==============================] - 122s 5ms/step - loss: 0.0881 - accuracy: 0.9691 - val_loss: 0.3874 - val_accuracy: 0.8394\n",
      "Epoch 3/150\n",
      "23256/23256 [==============================] - 121s 5ms/step - loss: 0.0265 - accuracy: 0.9918 - val_loss: 0.6827 - val_accuracy: 0.8301\n",
      "2871/2871 [==============================] - 4s 1ms/step\n",
      "Model: \"sequential_7\"\n",
      "_________________________________________________________________\n",
      "Layer (type)                 Output Shape              Param #   \n",
      "=================================================================\n",
      "embedding_7 (Embedding)      (None, 150, 64)           2560000   \n",
      "_________________________________________________________________\n",
      "dropout_13 (Dropout)         (None, 150, 64)           0         \n",
      "_________________________________________________________________\n",
      "bidirectional_13 (Bidirectio (None, 150, 128)          66048     \n",
      "_________________________________________________________________\n",
      "bidirectional_14 (Bidirectio (None, 128)               98816     \n",
      "_________________________________________________________________\n",
      "dense_13 (Dense)             (None, 256)               33024     \n",
      "_________________________________________________________________\n",
      "dropout_14 (Dropout)         (None, 256)               0         \n",
      "_________________________________________________________________\n",
      "dense_14 (Dense)             (None, 1)                 257       \n",
      "=================================================================\n",
      "Total params: 2,758,145\n",
      "Trainable params: 2,758,145\n",
      "Non-trainable params: 0\n",
      "_________________________________________________________________\n"
     ]
    },
    {
     "name": "stderr",
     "output_type": "stream",
     "text": [
      "/Users/akhilesh/anaconda3/envs/Black_Hole/lib/python3.7/site-packages/tensorflow_core/python/framework/indexed_slices.py:424: UserWarning: Converting sparse IndexedSlices to a dense Tensor of unknown shape. This may consume a large amount of memory.\n",
      "  \"Converting sparse IndexedSlices to a dense Tensor of unknown shape. \"\n"
     ]
    },
    {
     "name": "stdout",
     "output_type": "stream",
     "text": [
      "Train on 23256 samples, validate on 2584 samples\n",
      "Epoch 1/150\n",
      "23256/23256 [==============================] - 123s 5ms/step - loss: 0.3019 - accuracy: 0.8663 - val_loss: 0.5270 - val_accuracy: 0.8115\n",
      "Epoch 2/150\n",
      "23256/23256 [==============================] - 123s 5ms/step - loss: 0.0870 - accuracy: 0.9695 - val_loss: 0.2380 - val_accuracy: 0.8951\n",
      "Epoch 3/150\n",
      "23256/23256 [==============================] - 124s 5ms/step - loss: 0.0272 - accuracy: 0.9913 - val_loss: 0.7264 - val_accuracy: 0.8270\n",
      "2871/2871 [==============================] - 4s 1ms/step\n",
      "Model: \"sequential_8\"\n",
      "_________________________________________________________________\n",
      "Layer (type)                 Output Shape              Param #   \n",
      "=================================================================\n",
      "embedding_8 (Embedding)      (None, 150, 64)           2560000   \n",
      "_________________________________________________________________\n",
      "dropout_15 (Dropout)         (None, 150, 64)           0         \n",
      "_________________________________________________________________\n",
      "bidirectional_15 (Bidirectio (None, 150, 128)          66048     \n",
      "_________________________________________________________________\n",
      "bidirectional_16 (Bidirectio (None, 128)               98816     \n",
      "_________________________________________________________________\n",
      "dense_15 (Dense)             (None, 256)               33024     \n",
      "_________________________________________________________________\n",
      "dropout_16 (Dropout)         (None, 256)               0         \n",
      "_________________________________________________________________\n",
      "dense_16 (Dense)             (None, 1)                 257       \n",
      "=================================================================\n",
      "Total params: 2,758,145\n",
      "Trainable params: 2,758,145\n",
      "Non-trainable params: 0\n",
      "_________________________________________________________________\n"
     ]
    },
    {
     "name": "stderr",
     "output_type": "stream",
     "text": [
      "/Users/akhilesh/anaconda3/envs/Black_Hole/lib/python3.7/site-packages/tensorflow_core/python/framework/indexed_slices.py:424: UserWarning: Converting sparse IndexedSlices to a dense Tensor of unknown shape. This may consume a large amount of memory.\n",
      "  \"Converting sparse IndexedSlices to a dense Tensor of unknown shape. \"\n"
     ]
    },
    {
     "name": "stdout",
     "output_type": "stream",
     "text": [
      "Train on 23256 samples, validate on 2584 samples\n",
      "Epoch 1/150\n",
      "23256/23256 [==============================] - 124s 5ms/step - loss: 0.2916 - accuracy: 0.8705 - val_loss: 0.3436 - val_accuracy: 0.8456\n",
      "Epoch 2/150\n",
      "23256/23256 [==============================] - 125s 5ms/step - loss: 0.0975 - accuracy: 0.9672 - val_loss: 0.6116 - val_accuracy: 0.8065\n",
      "2871/2871 [==============================] - 4s 1ms/step\n",
      "Model: \"sequential_9\"\n",
      "_________________________________________________________________\n",
      "Layer (type)                 Output Shape              Param #   \n",
      "=================================================================\n",
      "embedding_9 (Embedding)      (None, 150, 64)           2560000   \n",
      "_________________________________________________________________\n",
      "dropout_17 (Dropout)         (None, 150, 64)           0         \n",
      "_________________________________________________________________\n",
      "bidirectional_17 (Bidirectio (None, 150, 128)          66048     \n",
      "_________________________________________________________________\n",
      "bidirectional_18 (Bidirectio (None, 128)               98816     \n",
      "_________________________________________________________________\n",
      "dense_17 (Dense)             (None, 256)               33024     \n",
      "_________________________________________________________________\n",
      "dropout_18 (Dropout)         (None, 256)               0         \n",
      "_________________________________________________________________\n",
      "dense_18 (Dense)             (None, 1)                 257       \n",
      "=================================================================\n",
      "Total params: 2,758,145\n",
      "Trainable params: 2,758,145\n",
      "Non-trainable params: 0\n",
      "_________________________________________________________________\n"
     ]
    },
    {
     "name": "stderr",
     "output_type": "stream",
     "text": [
      "/Users/akhilesh/anaconda3/envs/Black_Hole/lib/python3.7/site-packages/tensorflow_core/python/framework/indexed_slices.py:424: UserWarning: Converting sparse IndexedSlices to a dense Tensor of unknown shape. This may consume a large amount of memory.\n",
      "  \"Converting sparse IndexedSlices to a dense Tensor of unknown shape. \"\n"
     ]
    },
    {
     "name": "stdout",
     "output_type": "stream",
     "text": [
      "Train on 23256 samples, validate on 2584 samples\n",
      "Epoch 1/150\n",
      "23256/23256 [==============================] - 120s 5ms/step - loss: 0.2921 - accuracy: 0.8705 - val_loss: 0.3200 - val_accuracy: 0.8669\n",
      "Epoch 2/150\n",
      "23256/23256 [==============================] - 114s 5ms/step - loss: 0.0969 - accuracy: 0.9665 - val_loss: 0.3870 - val_accuracy: 0.8642\n",
      "2871/2871 [==============================] - 3s 1ms/step\n",
      "Model: \"sequential_10\"\n",
      "_________________________________________________________________\n",
      "Layer (type)                 Output Shape              Param #   \n",
      "=================================================================\n",
      "embedding_10 (Embedding)     (None, 150, 64)           2560000   \n",
      "_________________________________________________________________\n",
      "dropout_19 (Dropout)         (None, 150, 64)           0         \n",
      "_________________________________________________________________\n",
      "bidirectional_19 (Bidirectio (None, 150, 128)          66048     \n",
      "_________________________________________________________________\n",
      "bidirectional_20 (Bidirectio (None, 128)               98816     \n",
      "_________________________________________________________________\n",
      "dense_19 (Dense)             (None, 256)               33024     \n",
      "_________________________________________________________________\n",
      "dropout_20 (Dropout)         (None, 256)               0         \n",
      "_________________________________________________________________\n",
      "dense_20 (Dense)             (None, 1)                 257       \n",
      "=================================================================\n",
      "Total params: 2,758,145\n",
      "Trainable params: 2,758,145\n",
      "Non-trainable params: 0\n",
      "_________________________________________________________________\n"
     ]
    },
    {
     "name": "stderr",
     "output_type": "stream",
     "text": [
      "/Users/akhilesh/anaconda3/envs/Black_Hole/lib/python3.7/site-packages/tensorflow_core/python/framework/indexed_slices.py:424: UserWarning: Converting sparse IndexedSlices to a dense Tensor of unknown shape. This may consume a large amount of memory.\n",
      "  \"Converting sparse IndexedSlices to a dense Tensor of unknown shape. \"\n"
     ]
    },
    {
     "name": "stdout",
     "output_type": "stream",
     "text": [
      "Train on 23256 samples, validate on 2584 samples\n",
      "Epoch 1/150\n",
      "23256/23256 [==============================] - 115s 5ms/step - loss: 0.2925 - accuracy: 0.8726 - val_loss: 0.4145 - val_accuracy: 0.8560\n",
      "Epoch 2/150\n",
      "23256/23256 [==============================] - 116s 5ms/step - loss: 0.0964 - accuracy: 0.9667 - val_loss: 0.2848 - val_accuracy: 0.8878\n",
      "Epoch 3/150\n",
      "23256/23256 [==============================] - 115s 5ms/step - loss: 0.0445 - accuracy: 0.9854 - val_loss: 0.5025 - val_accuracy: 0.8506\n",
      "2871/2871 [==============================] - 3s 1ms/step\n",
      "[0.97080195, 0.97033024, 0.99071205, 0.99221706, 0.99367905, 0.9917871, 0.9912711, 0.96723425, 0.9664603, 0.9853801]\n",
      "[0.8107585310935974, 0.8633900880813599, 0.7914086580276489, 0.8010835647583008, 0.8297213912010193, 0.8301083445549011, 0.8270123600959778, 0.806501567363739, 0.8641641139984131, 0.8506191968917847]\n",
      "[0.902506947517395, 0.9118773937225342, 0.8916753530502319, 0.9136189222335815, 0.9122257232666016, 0.9049111604690552, 0.9101358652114868, 0.909439206123352, 0.9031696319580078, 0.9132706522941589]\n",
      "[0.8733812949640288, 0.8958818958818959, 0.8412138320395202, 0.8807017543859649, 0.888, 0.8768328445747801, 0.8921933085501859, 0.872899926953981, 0.8822205551387847, 0.8986175115207373]\n",
      "[0.921092564491654, 0.9064465408805031, 0.9327073552425665, 0.9414853713428357, 0.9257012888551933, 0.9192928516525749, 0.913937547600914, 0.9328649492583919, 0.9067077872012336, 0.9090909090909091]\n",
      "[0.9039182256177704, 0.9113220821975999, 0.8957322086947296, 0.9154761056974257, 0.913237242365741, 0.9061432411129117, 0.9104347558286983, 0.9117154934971204, 0.9034809584036663, 0.9128787878787878]\n",
      "training accuracy: 0.98198736\n",
      "validation accuracy: 0.8274767816066741\n",
      "test accuracy: 0.9072830855846405\n",
      "Precision: 0.8801942924009879\n",
      "Recall: 0.9209327165616775\n",
      "ROC AUC: 0.908433910129445\n"
     ]
    }
   ],
   "source": [
    "seed = 0\n",
    "k_fold = KFold(n_splits=10, shuffle=True, random_state=seed)\n",
    "train_acc = []\n",
    "val_acc = []\n",
    "test_acc = []\n",
    "prec = []\n",
    "recall = []\n",
    "roc = []\n",
    "for train, test in k_fold.split(X, Y):\n",
    "    max_words = 40000\n",
    "    max_length = 150\n",
    "    t = Tokenizer(num_words=max_words)\n",
    "    t.fit_on_texts(X[train])\n",
    "    train_sequence = t.texts_to_sequences(X[train])\n",
    "    train_padded = pad_sequences(train_sequence, maxlen=max_length)\n",
    "    model = Sequential()\n",
    "    model.add(Embedding(max_words, 64, input_length=max_length))\n",
    "    model.add(Dropout(0.2))\n",
    "    model.add(Bidirectional(LSTM(64,  return_sequences=True)))\n",
    "    model.add(Bidirectional(LSTM(64)))\n",
    "    model.add(Dense(256, activation='relu'))\n",
    "    model.add(Dropout(0.2))\n",
    "    model.add(Dense(1, activation='sigmoid'))\n",
    "    model.compile(loss='binary_crossentropy', optimizer='Adam', metrics=['accuracy'])\n",
    "    model.summary()\n",
    "    histroy = model.fit(train_padded, Y[train], batch_size=100, epochs=150, validation_split=0.1,\n",
    "                        callbacks=[EarlyStopping(monitor='val_loss', min_delta=0.00001)])\n",
    "#    histroy = model.fit(train_padded, Y[train], batch_size=100, epochs=25, validation_split=0.1)\n",
    "    train_acc.append(histroy.history['accuracy'][-1])\n",
    "    val_acc.append(histroy.history['val_accuracy'][-1])\n",
    "    test_sequence = t.texts_to_sequences(X[test])\n",
    "    test_padded = pad_sequences(test_sequence, maxlen=max_length)\n",
    "    test_scores = model.evaluate(test_padded, Y[test])\n",
    "    predictions = model.predict_classes(test_padded)\n",
    "    predictions = predictions[:,0]\n",
    "    prec.append(precision_score(Y[test], predictions))\n",
    "    recall.append(recall_score(Y[test], predictions))\n",
    "    roc.append(roc_auc_score(Y[test], predictions))\n",
    "    test_acc.append(test_scores[1])\n",
    "\n",
    "print(train_acc)\n",
    "print(val_acc)\n",
    "print(test_acc)\n",
    "print(prec)\n",
    "print(recall)\n",
    "print(roc)\n",
    "print(\"training accuracy:\", np.mean(train_acc))\n",
    "print(\"validation accuracy:\", np.mean(val_acc))\n",
    "print(\"test accuracy:\", np.mean(test_acc))\n",
    "print(\"Precision:\", np.mean(prec))\n",
    "print(\"Recall:\", np.mean(recall))\n",
    "print(\"ROC AUC:\", np.mean(roc))\n"
   ]
  },
  {
   "cell_type": "code",
   "execution_count": 19,
   "metadata": {},
   "outputs": [
    {
     "data": {
      "image/png": "[encoded data removed]",
      "text/plain": [
       "<Figure size 720x504 with 2 Axes>"
      ]
     },
     "metadata": {
      "needs_background": "light"
     },
     "output_type": "display_data"
    }
   ],
   "source": [
    "# figsize = (10,7)\n",
    "# fontsize=14\n",
    "# df_cm = pd.DataFrame(cm, index=labels, columns=labels)\n",
    "# fig = plt.figure(figsize=figsize)\n",
    "# heatmap = sns.heatmap(df_cm, annot=True, fmt=\"d\")\n",
    "# heatmap.yaxis.set_ticklabels(heatmap.yaxis.get_ticklabels(), rotation=0, ha='right', fontsize=fontsize)\n",
    "# heatmap.xaxis.set_ticklabels(heatmap.xaxis.get_ticklabels(), rotation=45, ha='right', fontsize=fontsize)\n",
    "# bottom, top = heatmap.get_ylim()\n",
    "# heatmap.set_ylim(bottom + 0.5, top - 0.5)\n",
    "# plt.ylabel('True label')\n",
    "# plt.xlabel('Predicted label')\n",
    "\n",
    "\n",
    "\n",
    "\n",
    "\n",
    "# sns.set(font_scale=1.4)\n",
    "# sns.heatmap(cm, square=True, annot=True, cmap='RdBu', cbar=False, annot_kws={\"size\": 16})\n",
    "# plt.xlabel('Real values')\n",
    "# plt.ylabel('prediction')\n",
    "# # plt.ticklabel_format(useOffset=False)\n",
    "# plt.show()"
   ]
  },
  {
   "cell_type": "markdown",
   "metadata": {},
   "source": []
  }
 ],
 "metadata": {
  "kernelspec": {
   "display_name": "Python 3",
   "language": "python",
   "name": "python3"
  },
  "language_info": {
   "codemirror_mode": {
    "name": "ipython",
    "version": 3
   },
   "file_extension": ".py",
   "mimetype": "text/x-python",
   "name": "python",
   "nbconvert_exporter": "python",
   "pygments_lexer": "ipython3",
   "version": "3.7.4"
  }
 },
 "nbformat": 4,
 "nbformat_minor": 2
}
